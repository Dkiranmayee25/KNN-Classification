{
 "cells": [
  {
   "cell_type": "markdown",
   "id": "c0116adf",
   "metadata": {},
   "source": [
    "# K-Nearest Neighbors (KNN) Classification using Iris Dataset"
   ]
  },
  {
   "cell_type": "code",
   "execution_count": null,
   "id": "b85661de",
   "metadata": {},
   "outputs": [],
   "source": [
    "\n",
    "import pandas as pd\n",
    "import numpy as np\n",
    "import matplotlib.pyplot as plt\n",
    "import seaborn as sns\n",
    "\n",
    "from sklearn.model_selection import train_test_split\n",
    "from sklearn.preprocessing import StandardScaler, LabelEncoder\n",
    "from sklearn.neighbors import KNeighborsClassifier\n",
    "from sklearn.metrics import accuracy_score, confusion_matrix, classification_report\n"
   ]
  },
  {
   "cell_type": "markdown",
   "id": "1dbb0e9c",
   "metadata": {},
   "source": [
    "### 1. Load and Explore Dataset"
   ]
  },
  {
   "cell_type": "code",
   "execution_count": null,
   "id": "bfbc9077",
   "metadata": {},
   "outputs": [],
   "source": [
    "\n",
    "df = pd.read_csv('/content/Iris.csv')\n",
    "if 'Id' in df.columns:\n",
    "    df.drop('Id', axis=1, inplace=True)\n",
    "df.head()\n"
   ]
  },
  {
   "cell_type": "markdown",
   "id": "dbd29493",
   "metadata": {},
   "source": [
    "### 2. Encode Labels and Normalize Features"
   ]
  },
  {
   "cell_type": "code",
   "execution_count": null,
   "id": "479754ef",
   "metadata": {},
   "outputs": [],
   "source": [
    "\n",
    "X = df.drop('Species', axis=1)\n",
    "y = df['Species']\n",
    "le = LabelEncoder()\n",
    "y_encoded = le.fit_transform(y)\n",
    "target_names = le.classes_\n",
    "scaler = StandardScaler()\n",
    "X_scaled = scaler.fit_transform(X)\n"
   ]
  },
  {
   "cell_type": "markdown",
   "id": "52d9fa77",
   "metadata": {},
   "source": [
    "### 3. Train-Test Split"
   ]
  },
  {
   "cell_type": "code",
   "execution_count": null,
   "id": "2a5e0be8",
   "metadata": {},
   "outputs": [],
   "source": [
    "\n",
    "X_train, X_test, y_train, y_test = train_test_split(X_scaled, y_encoded, test_size=0.2, random_state=42)\n"
   ]
  },
  {
   "cell_type": "markdown",
   "id": "af81b90e",
   "metadata": {},
   "source": [
    "### 4. Try Different K Values and Plot Accuracy"
   ]
  },
  {
   "cell_type": "code",
   "execution_count": null,
   "id": "1f805379",
   "metadata": {},
   "outputs": [],
   "source": [
    "\n",
    "k_values = range(1, 11)\n",
    "accuracies = []\n",
    "\n",
    "for k in k_values:\n",
    "    knn = KNeighborsClassifier(n_neighbors=k)\n",
    "    knn.fit(X_train, y_train)\n",
    "    y_pred = knn.predict(X_test)\n",
    "    acc = accuracy_score(y_test, y_pred)\n",
    "    accuracies.append(acc)\n",
    "    print(f\"K={k} → Accuracy: {acc:.2f}\")\n",
    "\n",
    "best_k = k_values[np.argmax(accuracies)]\n",
    "best_acc = max(accuracies)\n",
    "\n",
    "plt.figure(figsize=(8, 5))\n",
    "plt.plot(k_values, accuracies, marker='o', linestyle='--', color='b', label='Accuracy')\n",
    "plt.axvline(x=best_k, color='r', linestyle=':', label=f'Best K = {best_k}')\n",
    "plt.scatter(best_k, best_acc, color='red', s=100, zorder=5)\n",
    "plt.title('Accuracy vs K value')\n",
    "plt.xlabel('K')\n",
    "plt.ylabel('Accuracy')\n",
    "plt.ylim(min(accuracies)-0.005, max(accuracies)+0.005)\n",
    "plt.xticks(k_values)\n",
    "plt.legend()\n",
    "plt.grid(True)\n",
    "plt.show()\n"
   ]
  },
  {
   "cell_type": "markdown",
   "id": "62dcd180",
   "metadata": {},
   "source": [
    "### 5. Final Model and Evaluation"
   ]
  },
  {
   "cell_type": "code",
   "execution_count": null,
   "id": "c7285788",
   "metadata": {},
   "outputs": [],
   "source": [
    "\n",
    "knn_final = KNeighborsClassifier(n_neighbors=best_k)\n",
    "knn_final.fit(X_train, y_train)\n",
    "y_pred_final = knn_final.predict(X_test)\n",
    "\n",
    "cm = confusion_matrix(y_test, y_pred_final)\n",
    "print(\"Confusion Matrix:\")\n",
    "print(cm)\n",
    "\n",
    "plt.figure(figsize=(6, 4))\n",
    "sns.heatmap(cm, annot=True, fmt='d', cmap='Blues', xticklabels=target_names, yticklabels=target_names)\n",
    "plt.title(\"Confusion Matrix\")\n",
    "plt.xlabel(\"Predicted\")\n",
    "plt.ylabel(\"Actual\")\n",
    "plt.show()\n",
    "\n",
    "print(\"\\nClassification Report:\")\n",
    "print(classification_report(y_test, y_pred_final, target_names=target_names))\n"
   ]
  },
  {
   "cell_type": "markdown",
   "id": "ced6a0e7",
   "metadata": {},
   "source": [
    "### 6. Decision Boundary Visualization (2D)"
   ]
  },
  {
   "cell_type": "code",
   "execution_count": null,
   "id": "d6874f37",
   "metadata": {},
   "outputs": [],
   "source": [
    "\n",
    "X_vis = df[['PetalLengthCm', 'PetalWidthCm']].values\n",
    "y_vis = le.transform(df['Species'])\n",
    "X_vis_scaled = StandardScaler().fit_transform(X_vis)\n",
    "\n",
    "X_train_vis, X_test_vis, y_train_vis, y_test_vis = train_test_split(X_vis_scaled, y_vis, test_size=0.2, random_state=42)\n",
    "knn_vis = KNeighborsClassifier(n_neighbors=best_k)\n",
    "knn_vis.fit(X_train_vis, y_train_vis)\n",
    "\n",
    "x_min, x_max = X_vis_scaled[:, 0].min() - 1, X_vis_scaled[:, 0].max() + 1\n",
    "y_min, y_max = X_vis_scaled[:, 1].min() - 1, X_vis_scaled[:, 1].max() + 1\n",
    "xx, yy = np.meshgrid(np.arange(x_min, x_max, 0.02),\n",
    "                     np.arange(y_min, y_max, 0.02))\n",
    "Z = knn_vis.predict(np.c_[xx.ravel(), yy.ravel()])\n",
    "Z = Z.reshape(xx.shape)\n",
    "\n",
    "plt.figure(figsize=(10, 6))\n",
    "plt.contourf(xx, yy, Z, alpha=0.3, cmap=plt.cm.coolwarm)\n",
    "plt.scatter(X_vis_scaled[:, 0], X_vis_scaled[:, 1], c=y_vis, edgecolors='k', cmap=plt.cm.coolwarm)\n",
    "plt.xlabel('Petal Length (Standardized)')\n",
    "plt.ylabel('Petal Width (Standardized)')\n",
    "plt.title(f'KNN Decision Boundary (k={best_k})')\n",
    "plt.show()\n"
   ]
  }
 ],
 "metadata": {},
 "nbformat": 4,
 "nbformat_minor": 5
}
